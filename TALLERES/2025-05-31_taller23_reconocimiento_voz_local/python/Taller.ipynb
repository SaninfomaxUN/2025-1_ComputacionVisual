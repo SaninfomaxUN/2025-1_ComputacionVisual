{
 "cells": [
  {
   "metadata": {},
   "cell_type": "markdown",
   "source": [
    "# Taller #23: Voz al Código: Comandos por Reconocimiento de Voz Local\n",
    "#### Desarrollado por: David Santiago Cruz Hernández"
   ],
   "id": "d17cb1769d69ff5d"
  },
  {
   "metadata": {
    "ExecuteTime": {
     "end_time": "2025-05-30T06:12:42.902850Z",
     "start_time": "2025-05-30T06:12:42.838372Z"
    }
   },
   "cell_type": "code",
   "source": [
    "import speech_recognition as sr\n",
    "import tkinter as tk\n",
    "from pythonosc import udp_client\n",
    "import threading\n",
    "\n",
    "# pip install -r requirements.txt"
   ],
   "id": "initial_id",
   "outputs": [],
   "execution_count": 1
  },
  {
   "metadata": {},
   "cell_type": "markdown",
   "source": "### Configuración del cliente OSC",
   "id": "50e279a2c3f7efc4"
  },
  {
   "metadata": {
    "ExecuteTime": {
     "end_time": "2025-05-30T06:12:43.027146Z",
     "start_time": "2025-05-30T06:12:43.013224Z"
    }
   },
   "cell_type": "code",
   "source": [
    "IP_DESTINO = \"127.0.0.1\"  # IP del servidor (Processing)\n",
    "PUERTO_OSC = 9100         # Puerto OSC\n",
    "cliente_osc = udp_client.SimpleUDPClient(IP_DESTINO, PUERTO_OSC)\n",
    "detener_hilo = threading.Event()"
   ],
   "id": "2208e20ab42989a5",
   "outputs": [],
   "execution_count": 2
  },
  {
   "metadata": {},
   "cell_type": "markdown",
   "source": "### Lista de comandos permitidos",
   "id": "14798ead8279be2c"
  },
  {
   "metadata": {
    "ExecuteTime": {
     "end_time": "2025-05-30T06:12:43.074059Z",
     "start_time": "2025-05-30T06:12:43.059870Z"
    }
   },
   "cell_type": "code",
   "source": "COMANDOS = ['naranja', 'verde', 'azul', 'mover', 'girar', 'iniciar', 'detener']",
   "id": "b212278fe1136132",
   "outputs": [],
   "execution_count": 3
  },
  {
   "metadata": {},
   "cell_type": "markdown",
   "source": "### Interfaz gráfica con Tkinter",
   "id": "61076f344689f1b2"
  },
  {
   "metadata": {
    "ExecuteTime": {
     "end_time": "2025-05-30T06:12:43.104300Z",
     "start_time": "2025-05-30T06:12:43.091235Z"
    }
   },
   "cell_type": "code",
   "source": [
    "class AppInteractiva:\n",
    "    def __init__(self, root):\n",
    "        self.root = root\n",
    "        self.root.title(\"Control por Voz\")\n",
    "        self.root.geometry(\"500x400\")\n",
    "\n",
    "        self.color_actual = \"white\"\n",
    "        self.label = tk.Label(root, text=\"Esperando comando...\", bg=self.color_actual, width=30, height=10, font=(\"Arial\", 20))\n",
    "        self.label.pack(pady=20)\n",
    "\n",
    "    def cambiar_color(self, color):\n",
    "        self.color_actual = color\n",
    "        self.label.config(bg=color)\n",
    "\n",
    "    def mostrar_comando(self, comando):\n",
    "        self.label.config(text=comando.capitalize())"
   ],
   "id": "f6edf5d13ebb32d9",
   "outputs": [],
   "execution_count": 4
  },
  {
   "metadata": {},
   "cell_type": "markdown",
   "source": "## Función de reconocimiento de voz",
   "id": "3ca7583569797682"
  },
  {
   "metadata": {
    "ExecuteTime": {
     "end_time": "2025-05-30T06:12:43.134014Z",
     "start_time": "2025-05-30T06:12:43.121497Z"
    }
   },
   "cell_type": "code",
   "source": [
    "def reconocer_voz(app):\n",
    "    r = sr.Recognizer()\n",
    "    with sr.Microphone() as source:\n",
    "        print(\"Escuchando...\")\n",
    "        r.adjust_for_ambient_noise(source)\n",
    "        while not detener_hilo.is_set():\n",
    "            try:\n",
    "                audio = r.listen(source, timeout=5, phrase_time_limit=3)\n",
    "                texto = r.recognize_google(audio, language=\"es-CO\").lower()\n",
    "                app.root.after(0, app.mostrar_comando, texto)\n",
    "\n",
    "                if texto in COMANDOS:\n",
    "                    print(f\"Comando reconocido: {texto}\")\n",
    "                    cliente_osc.send_message(\"/comando\", texto)\n",
    "                    if texto == \"naranja\":\n",
    "                        app.root.after(0, app.cambiar_color, \"orange\")\n",
    "                    elif texto == \"verde\":\n",
    "                        app.root.after(0, app.cambiar_color, \"lawn green\")\n",
    "                    elif texto == \"azul\":\n",
    "                        app.root.after(0, app.cambiar_color, \"turquoise\")\n",
    "                    elif texto == \"girar\":\n",
    "                        app.root.after(0, app.mostrar_comando, \"Girando...\")\n",
    "                    elif texto == \"mover\":\n",
    "                        app.root.after(0, app.mostrar_comando, \"Moviendo...\")\n",
    "                    elif texto == \"iniciar\":\n",
    "                        app.root.after(0, app.mostrar_comando, \"Iniciando...\")\n",
    "                    elif texto == \"detener\":\n",
    "                        app.root.after(0, app.mostrar_comando, \"Deteniendo...\")\n",
    "                        app.root.after(0, app.cambiar_color, \"white\")\n",
    "                else:\n",
    "                    print(f\"Comando no válido: {texto}\")\n",
    "            except sr.UnknownValueError:\n",
    "                print(\"No entendido.\")\n",
    "            except sr.RequestError as e:\n",
    "                print(f\"Error en servicio; {e}\")\n",
    "            except Exception as ex:\n",
    "                print(f\"Error: {ex}\")"
   ],
   "id": "cf03ffbf3a4151ad",
   "outputs": [],
   "execution_count": 5
  },
  {
   "metadata": {},
   "cell_type": "markdown",
   "source": "### Iniciar la aplicación Tkinter en un hilo separado",
   "id": "8ed6cf87844a0f35"
  },
  {
   "metadata": {
    "ExecuteTime": {
     "end_time": "2025-05-30T06:12:43.165030Z",
     "start_time": "2025-05-30T06:12:43.151478Z"
    }
   },
   "cell_type": "code",
   "source": [
    "def iniciar_gui():\n",
    "    root = tk.Tk()\n",
    "    app = AppInteractiva(root)\n",
    "    hilo = threading.Thread(target=reconocer_voz, args=(app,))\n",
    "    hilo.start()\n",
    "    def on_close():\n",
    "        detener_hilo.set()\n",
    "        root.destroy()\n",
    "    root.protocol(\"WM_DELETE_WINDOW\", on_close)\n",
    "    root.mainloop()"
   ],
   "id": "8320f9d04f5a7a5b",
   "outputs": [],
   "execution_count": 6
  },
  {
   "metadata": {},
   "cell_type": "markdown",
   "source": [
    "---\n",
    "## Ejecutar"
   ],
   "id": "4cf1f1607a1ee7a8"
  },
  {
   "metadata": {
    "ExecuteTime": {
     "end_time": "2025-05-30T06:14:15.179771Z",
     "start_time": "2025-05-30T06:12:43.182587Z"
    }
   },
   "cell_type": "code",
   "source": [
    "if __name__ == \"__main__\":\n",
    "    print(\"Iniciando interfaz y reconocimiento por voz...\")\n",
    "    iniciar_gui()"
   ],
   "id": "ca796cf3c7564e9d",
   "outputs": [
    {
     "name": "stdout",
     "output_type": "stream",
     "text": [
      "Iniciando interfaz y reconocimiento por voz...\n",
      "Escuchando...\n",
      "Comando no válido: hola\n",
      "Comando no válido: puedes ver\n",
      "Comando no válido: lo que estoy diciendo\n",
      "Comando no válido: así es\n",
      "Comando no válido: cambiemos los colores\n",
      "Comando reconocido: naranja\n",
      "Comando reconocido: azul\n",
      "Comando reconocido: verde\n",
      "Comando no válido: agreguemos movimiento\n",
      "Comando reconocido: girar\n",
      "Comando reconocido: mover\n",
      "Comando reconocido: girar\n",
      "Comando reconocido: detener\n",
      "Comando reconocido: iniciar\n",
      "Comando reconocido: girar\n",
      "Comando reconocido: verde\n",
      "Comando no válido: qué les parece\n",
      "Comando no válido: increíble\n",
      "No entendido.\n",
      "No entendido.\n",
      "No entendido.\n",
      "No entendido.\n",
      "No entendido.\n",
      "No entendido.\n"
     ]
    }
   ],
   "execution_count": 7
  }
 ],
 "metadata": {
  "kernelspec": {
   "display_name": "Python 3",
   "language": "python",
   "name": "python3"
  },
  "language_info": {
   "codemirror_mode": {
    "name": "ipython",
    "version": 2
   },
   "file_extension": ".py",
   "mimetype": "text/x-python",
   "name": "python",
   "nbconvert_exporter": "python",
   "pygments_lexer": "ipython2",
   "version": "2.7.6"
  }
 },
 "nbformat": 4,
 "nbformat_minor": 5
}

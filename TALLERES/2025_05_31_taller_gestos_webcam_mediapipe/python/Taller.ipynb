{
 "cells": [
  {
   "metadata": {},
   "cell_type": "markdown",
   "source": [
    "# Taller #13: Gestos con Cámara Web: Control Visual con MediaPipe\n",
    "#### Desarrollado por: David Santiago Cruz Hernández"
   ],
   "id": "d17cb1769d69ff5d"
  },
  {
   "metadata": {
    "ExecuteTime": {
     "end_time": "2025-06-01T06:49:53.934012Z",
     "start_time": "2025-06-01T06:49:52.261399Z"
    }
   },
   "cell_type": "code",
   "source": [
    "import tkinter as tk\n",
    "import threading\n",
    "import cv2\n",
    "import mediapipe as mp\n",
    "\n",
    "# pip install -r requirements.txt"
   ],
   "id": "initial_id",
   "outputs": [],
   "execution_count": 1
  },
  {
   "metadata": {},
   "cell_type": "markdown",
   "source": "### Lista de comandos permitidos",
   "id": "4ed8a2d73a0dd46e"
  },
  {
   "metadata": {
    "ExecuteTime": {
     "end_time": "2025-06-01T06:49:54.202697Z",
     "start_time": "2025-06-01T06:49:54.198446Z"
    }
   },
   "cell_type": "code",
   "source": "GESTOS_VALIDOS = {'mano_cerrada', 'un_dedo', 'dos_dedos', 'tres_dedos', 'cuatro_dedos', 'mano_abierta'}",
   "id": "7395e4097092b850",
   "outputs": [],
   "execution_count": 2
  },
  {
   "metadata": {},
   "cell_type": "markdown",
   "source": "### Estados actuales",
   "id": "b12110309d973726"
  },
  {
   "metadata": {
    "ExecuteTime": {
     "end_time": "2025-06-01T06:49:54.227586Z",
     "start_time": "2025-06-01T06:49:54.223714Z"
    }
   },
   "cell_type": "code",
   "source": "estado_gesto = None",
   "id": "70b1fc4f929ced38",
   "outputs": [],
   "execution_count": 3
  },
  {
   "metadata": {},
   "cell_type": "markdown",
   "source": "### Interfaz gráfica con Tkinter",
   "id": "234abf10d39defb9"
  },
  {
   "metadata": {
    "ExecuteTime": {
     "end_time": "2025-06-01T06:49:54.245910Z",
     "start_time": "2025-06-01T06:49:54.239182Z"
    }
   },
   "cell_type": "code",
   "source": [
    "class AppVisual(tk.Tk):\n",
    "    def __init__(self):\n",
    "        super().__init__()\n",
    "        self.title(\"Control por Gestos\")\n",
    "        self.geometry(\"500x400\")\n",
    "        self.color_actual = \"white\"\n",
    "        self.pos_x = 200\n",
    "        self.label = tk.Label(self, text=\"Esperando comando...\", bg=self.color_actual, width=30, height=10, font=(\"Arial\", 20))\n",
    "        self.label.place(relx=0.5, rely=0.5, anchor=\"center\")\n",
    "\n",
    "\n",
    "    def actualizar_interfaz(self):\n",
    "        global estado_gesto\n",
    "        if estado_gesto == \"mano_cerrada\":\n",
    "            self.label.config(text=\"Mano cerrada detectada\", bg=\"#fbfff4\")\n",
    "        elif estado_gesto == \"un_dedo\":\n",
    "            self.label.config(text=\"Un dedo detectado\", bg=\"#f0ffda\")\n",
    "        elif estado_gesto == \"dos_dedos\":\n",
    "            self.label.config(text=\"Dos dedos detectados\", bg=\"#dafca9\")\n",
    "        elif estado_gesto == \"tres_dedos\":\n",
    "            self.label.config(text=\"Tres dedos detectados\", bg=\"#c7fe77\")\n",
    "        elif estado_gesto == \"cuatro_dedos\":\n",
    "            self.label.config(text=\"Cuatro dedos detectados\", bg=\"#b0ff3d\")\n",
    "        elif estado_gesto == \"mano_abierta\":\n",
    "            self.label.config(text=\"Mano abierta detectada\", bg=\"#97ff00\")\n",
    "        self.after(100, self.actualizar_interfaz)"
   ],
   "id": "3c6600ee951bee5",
   "outputs": [],
   "execution_count": 4
  },
  {
   "metadata": {},
   "cell_type": "markdown",
   "source": "### Función de detección de gestos",
   "id": "fd4a9712cd3e1d42"
  },
  {
   "metadata": {
    "ExecuteTime": {
     "end_time": "2025-06-01T06:49:54.259578Z",
     "start_time": "2025-06-01T06:49:54.250558Z"
    }
   },
   "cell_type": "code",
   "source": [
    "def detectar_gesto_mano(hand_landmarks, mp_hands):\n",
    "    # Obtiene las posiciones de las puntas y nudillos de los dedos\n",
    "    dedos = {\n",
    "        \"PULGAR\": (mp_hands.HandLandmark.THUMB_TIP, mp_hands.HandLandmark.THUMB_IP),\n",
    "        \"INDICE\": (mp_hands.HandLandmark.INDEX_FINGER_TIP, mp_hands.HandLandmark.INDEX_FINGER_PIP),\n",
    "        \"MEDIO\": (mp_hands.HandLandmark.MIDDLE_FINGER_TIP, mp_hands.HandLandmark.MIDDLE_FINGER_PIP),\n",
    "        \"ANULAR\": (mp_hands.HandLandmark.RING_FINGER_TIP, mp_hands.HandLandmark.RING_FINGER_PIP),\n",
    "        \"MENIQUE\": (mp_hands.HandLandmark.PINKY_TIP, mp_hands.HandLandmark.PINKY_PIP),\n",
    "    }\n",
    "    extendidos = {}\n",
    "    for nombre, (tip, pip) in dedos.items():\n",
    "        extendidos[nombre] = hand_landmarks.landmark[tip].y < hand_landmarks.landmark[pip].y\n",
    "\n",
    "    # Lógica para los gestos\n",
    "    if not any(extendidos.values()):\n",
    "        return \"mano_cerrada\"\n",
    "    elif extendidos[\"INDICE\"] and not extendidos[\"MENIQUE\"] and not extendidos[\"PULGAR\"] and not extendidos[\"ANULAR\"] and not extendidos[\"MEDIO\"]:\n",
    "        return \"un_dedo\"\n",
    "    elif extendidos[\"PULGAR\"] and extendidos[\"MENIQUE\"] and not extendidos[\"INDICE\"] and not extendidos[\"ANULAR\"] and not extendidos[\"MEDIO\"]:\n",
    "        return \"dos_dedos\"\n",
    "    elif extendidos[\"PULGAR\"] and extendidos[\"INDICE\"] and extendidos[\"MENIQUE\"] and not extendidos[\"MEDIO\"] and not extendidos[\"ANULAR\"]:\n",
    "        return \"tres_dedos\"\n",
    "    elif extendidos[\"INDICE\"] and extendidos[\"MEDIO\"] and extendidos[\"PULGAR\"] and extendidos[\"MENIQUE\"] and not extendidos[\"ANULAR\"]:\n",
    "        return \"cuatro_dedos\"\n",
    "    elif all(extendidos.values()):\n",
    "        return \"mano_abierta\"\n",
    "    return \"otro\""
   ],
   "id": "cd4c6636aeeeeeed",
   "outputs": [],
   "execution_count": 5
  },
  {
   "metadata": {
    "ExecuteTime": {
     "end_time": "2025-06-01T06:49:54.277432Z",
     "start_time": "2025-06-01T06:49:54.272412Z"
    }
   },
   "cell_type": "code",
   "source": [
    "def detectar_gestos():\n",
    "    global estado_gesto\n",
    "    mp_hands = mp.solutions.hands\n",
    "    mp_dibujo = mp.solutions.drawing_utils\n",
    "    hands = mp_hands.Hands(max_num_hands=1, min_detection_confidence=0.7)\n",
    "    cap = cv2.VideoCapture(0)\n",
    "\n",
    "    while True:\n",
    "        ret, frame = cap.read()\n",
    "        if not ret:\n",
    "            break\n",
    "\n",
    "        rgb_frame = cv2.cvtColor(frame, cv2.COLOR_BGR2RGB)\n",
    "        result = hands.process(rgb_frame)\n",
    "\n",
    "        if result.multi_hand_landmarks:\n",
    "            for hand_landmarks in result.multi_hand_landmarks:\n",
    "                # Dibuja los puntos y líneas sobre la mano\n",
    "                mp_dibujo.draw_landmarks(\n",
    "                    frame, hand_landmarks, mp_hands.HAND_CONNECTIONS\n",
    "                )\n",
    "                \n",
    "                # Detecta el gesto de la mano\n",
    "                estado_gesto = detectar_gesto_mano(hand_landmarks, mp_hands)\n",
    "        else:\n",
    "            estado_gesto = None\n",
    "\n",
    "        cv2.imshow('Gestos de Mano', frame)\n",
    "        if cv2.waitKey(1) == 27:\n",
    "            break\n",
    "\n",
    "    cap.release()\n",
    "    cv2.destroyAllWindows()"
   ],
   "id": "fc21dd25fc7d7de0",
   "outputs": [],
   "execution_count": 6
  },
  {
   "metadata": {},
   "cell_type": "markdown",
   "source": "### Actualización periódica de la interfaz",
   "id": "6e6ce17bb1399cb3"
  },
  {
   "metadata": {},
   "cell_type": "markdown",
   "source": "### Ejecutar e Iniciar hilos",
   "id": "fd009671a4805d07"
  },
  {
   "metadata": {
    "jupyter": {
     "is_executing": true
    },
    "ExecuteTime": {
     "end_time": "2025-06-01T06:55:54.959503700Z",
     "start_time": "2025-06-01T06:49:54.287519Z"
    }
   },
   "cell_type": "code",
   "source": [
    "app = AppVisual()\n",
    "threading.Thread(target=detectar_gestos, daemon=True).start()\n",
    "app.after(100, app.actualizar_interfaz)\n",
    "app.mainloop()"
   ],
   "id": "512a3f10e9acab10",
   "outputs": [],
   "execution_count": null
  }
 ],
 "metadata": {
  "kernelspec": {
   "display_name": "Python 3",
   "language": "python",
   "name": "python3"
  },
  "language_info": {
   "codemirror_mode": {
    "name": "ipython",
    "version": 2
   },
   "file_extension": ".py",
   "mimetype": "text/x-python",
   "name": "python",
   "nbconvert_exporter": "python",
   "pygments_lexer": "ipython2",
   "version": "2.7.6"
  }
 },
 "nbformat": 4,
 "nbformat_minor": 5
}

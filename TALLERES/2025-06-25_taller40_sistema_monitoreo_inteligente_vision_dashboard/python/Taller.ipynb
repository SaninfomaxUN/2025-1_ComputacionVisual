{
 "cells": [
  {
   "metadata": {},
   "cell_type": "markdown",
   "source": [
    "# Taller #40: Construcción de un Mini-Sistema de Monitoreo Inteligente\n",
    "#### Desarrollado por: David Santiago Cruz Hernández"
   ],
   "id": "d17cb1769d69ff5d"
  },
  {
   "metadata": {},
   "cell_type": "code",
   "outputs": [],
   "execution_count": null,
   "source": "# !pip install -r requirements.txt",
   "id": "77d41a58369818a2"
  },
  {
   "metadata": {
    "ExecuteTime": {
     "end_time": "2025-06-30T03:08:14.774172Z",
     "start_time": "2025-06-30T03:08:10.080733Z"
    }
   },
   "cell_type": "code",
   "source": [
    "import cv2\n",
    "import numpy as np\n",
    "from ultralytics import YOLO\n",
    "from datetime import datetime\n",
    "import os\n",
    "from matplotlib.backends.backend_agg import FigureCanvasAgg as FigureCanvas\n",
    "from matplotlib.figure import Figure"
   ],
   "id": "initial_id",
   "outputs": [],
   "execution_count": 1
  },
  {
   "metadata": {},
   "cell_type": "markdown",
   "source": "### Configuración Inicial",
   "id": "df3ee00ede87f8a4"
  },
  {
   "metadata": {
    "ExecuteTime": {
     "end_time": "2025-06-30T03:08:14.783782Z",
     "start_time": "2025-06-30T03:08:14.779763Z"
    }
   },
   "cell_type": "code",
   "source": [
    "# Configuración de carpetas\n",
    "os.makedirs(\"../capturas\", exist_ok=True)\n",
    "os.makedirs(\"../logs\", exist_ok=True)\n",
    "\n",
    "# Configuración de rutas\n",
    "CAPTURE_DIR = \"../capturas\"\n",
    "LOG_FILE_PATH = \"../logs/eventos.csv\"\n",
    "MODEL_PATH = \"../datos/yolo12n.pt\""
   ],
   "id": "6cba640c9d70ed65",
   "outputs": [],
   "execution_count": 2
  },
  {
   "metadata": {},
   "cell_type": "markdown",
   "source": "### Cargar el modelo YOLO",
   "id": "27eda170fef72bf8"
  },
  {
   "metadata": {
    "ExecuteTime": {
     "end_time": "2025-06-30T03:08:15.756341Z",
     "start_time": "2025-06-30T03:08:14.788877Z"
    }
   },
   "cell_type": "code",
   "source": [
    "# Inicializar modelo YOLO\n",
    "model = YOLO(MODEL_PATH)"
   ],
   "id": "bb569bd518255ca3",
   "outputs": [],
   "execution_count": 3
  },
  {
   "metadata": {},
   "cell_type": "markdown",
   "source": "### Inicializar el archivo de monitoreo",
   "id": "8daa5ca1d19334bb"
  },
  {
   "metadata": {
    "ExecuteTime": {
     "end_time": "2025-06-30T03:08:18.572673Z",
     "start_time": "2025-06-30T03:08:18.567767Z"
    }
   },
   "cell_type": "code",
   "source": [
    "if not os.path.exists(LOG_FILE_PATH):\n",
    "    with open(LOG_FILE_PATH, \"w\") as f:\n",
    "        f.write(\"timestamp,evento,clase,confianza\\n\")\n",
    "\n",
    "# Variables para conteo y gráfico\n",
    "conteo_objetos = {}\n",
    "historial_detecciones = []"
   ],
   "id": "324040c58cfab1b5",
   "outputs": [],
   "execution_count": 4
  },
  {
   "metadata": {},
   "cell_type": "markdown",
   "source": "### Registrar eventos en el archivo de monitoreo",
   "id": "82667d9fce951df6"
  },
  {
   "metadata": {
    "ExecuteTime": {
     "end_time": "2025-06-30T03:08:22.304902Z",
     "start_time": "2025-06-30T03:08:22.300891Z"
    }
   },
   "cell_type": "code",
   "source": [
    "def registrar_evento(evento, clase, confianza):\n",
    "    \"\"\"\n",
    "    Registra un evento en el archivo de monitoreo.\n",
    "    \"\"\"\n",
    "    timestamp = datetime.now().strftime(\"%Y-%m-%d %H:%M:%S\")\n",
    "    with open(LOG_FILE_PATH, \"a\") as f:\n",
    "        f.write(f\"{timestamp},{evento},{clase},{confianza:.2f}\\n\")\n",
    "    print(f\"[LOG] {timestamp} - {evento} ({clase}) | Confianza: {confianza:.2f}\")"
   ],
   "id": "c5b64a945b4c25f5",
   "outputs": [],
   "execution_count": 5
  },
  {
   "metadata": {},
   "cell_type": "markdown",
   "source": "### Dibujar el panel de visualización",
   "id": "1a7b0c8d450676bc"
  },
  {
   "metadata": {
    "ExecuteTime": {
     "end_time": "2025-06-30T03:08:30.409150Z",
     "start_time": "2025-06-30T03:08:30.402829Z"
    }
   },
   "cell_type": "code",
   "source": [
    "def dibujar_panel(frame, conteo, historial, estado=\"inactivo\"):\n",
    "    \"\"\"\n",
    "    Dibuja un panel de visualización con el estado del sistema, conteo de objetos y gráfico de detecciones.\n",
    "    \"\"\"\n",
    "    h, w, _ = frame.shape\n",
    "    panel = np.zeros((h, 300, 3), dtype=np.uint8)\n",
    "\n",
    "    # Estado del sistema\n",
    "    color_estado = (0, 255, 0) if estado == \"inactivo\" else (0, 0, 255) if estado == \"alerta\" else (255, 255, 0)\n",
    "    cv2.putText(panel, f\"Estado: {estado}\", (10, 30), cv2.FONT_HERSHEY_SIMPLEX, 0.6, color_estado, 1)\n",
    "\n",
    "    # Conteo actual\n",
    "    y = 60\n",
    "    for obj, cnt in conteo.items():\n",
    "        texto = f\"{obj}: {cnt}\"\n",
    "        cv2.putText(panel, texto, (10, y), cv2.FONT_HERSHEY_SIMPLEX, 0.5, (255, 255, 255), 1)\n",
    "        y += 25\n",
    "\n",
    "    # Gráfico\n",
    "    fig = Figure(figsize=(2.5, 2))\n",
    "    canvas = FigureCanvas(fig)\n",
    "    ax = fig.add_subplot(111)\n",
    "    ax.plot(historial[-20:])\n",
    "    ax.set_title(\"Detecciones últimas 20 seg\")\n",
    "    ax.grid(True)\n",
    "    fig.tight_layout()\n",
    "    canvas.draw()\n",
    "\n",
    "    # Extraer imagen del gráfico como array RGBA\n",
    "    img = np.array(canvas.renderer.buffer_rgba())\n",
    "\n",
    "    # Convertir RGBA a BGR (OpenCV usa BGR por defecto)\n",
    "    img = cv2.cvtColor(img, cv2.COLOR_RGBA2BGR)\n",
    "    img = cv2.resize(img, (295, 200))\n",
    "    panel[100:300, 5:300] = img\n",
    "\n",
    "    combined = np.hstack([frame, panel])\n",
    "    return combined"
   ],
   "id": "6b0a5b8cc31b82a4",
   "outputs": [],
   "execution_count": 6
  },
  {
   "metadata": {},
   "cell_type": "markdown",
   "source": "## Función principal",
   "id": "6220d91501db9770"
  },
  {
   "metadata": {},
   "cell_type": "markdown",
   "source": "- ### Inicializar la cámara",
   "id": "960db9ff936a228b"
  },
  {
   "metadata": {
    "ExecuteTime": {
     "end_time": "2025-06-30T03:08:35.944272Z",
     "start_time": "2025-06-30T03:08:35.939724Z"
    }
   },
   "cell_type": "code",
   "source": [
    "def inicializar_camara():\n",
    "    \"\"\"\n",
    "    Inicializa la cámara y devuelve el objeto de captura.\n",
    "    \"\"\"\n",
    "    cap = cv2.VideoCapture(0)\n",
    "    if not cap.isOpened():\n",
    "        print(\"[ERROR] No se pudo abrir la cámara.\")\n",
    "        return None\n",
    "    return cap"
   ],
   "id": "12f5c9f675991de7",
   "outputs": [],
   "execution_count": 7
  },
  {
   "metadata": {},
   "cell_type": "markdown",
   "source": "- ### Procesar las detecciones",
   "id": "62ffbb4470d2a545"
  },
  {
   "metadata": {
    "ExecuteTime": {
     "end_time": "2025-06-30T03:08:39.389695Z",
     "start_time": "2025-06-30T03:08:39.384785Z"
    }
   },
   "cell_type": "code",
   "source": [
    "def procesar_detecciones(frame):\n",
    "    \"\"\"\n",
    "    Procesa las detecciones en un frame y devuelve el conteo actual de objetos detectados.\n",
    "    \"\"\"\n",
    "    results = model(frame, verbose=False)\n",
    "    detecciones = results[0].boxes.data.cpu().numpy()\n",
    "    current_conteo = {}\n",
    "    persona_detectada = False\n",
    "    conf_persona = 0.0\n",
    "\n",
    "    for *box, conf, cls in detecciones:\n",
    "        clase = model.names[int(cls)]\n",
    "        current_conteo[clase] = current_conteo.get(clase, 0) + 1\n",
    "        if clase == \"person\":\n",
    "            persona_detectada = True\n",
    "            conf_persona = conf\n",
    "            x1, y1, x2, y2 = map(int, box)\n",
    "            cv2.rectangle(frame, (x1, y1), (x2, y2), (0, 255, 0), 2)\n",
    "            cv2.putText(frame, f\"{clase} {conf:.2f}\", (x1, y1 - 10),\n",
    "                        cv2.FONT_HERSHEY_SIMPLEX, 0.5, (0, 255, 0), 1)\n",
    "    return current_conteo, persona_detectada, conf_persona"
   ],
   "id": "8d4389ad2eff0b1a",
   "outputs": [],
   "execution_count": 8
  },
  {
   "metadata": {},
   "cell_type": "markdown",
   "source": "- ### Actualizar el historial de detecciones",
   "id": "c05b67ed2ebafba1"
  },
  {
   "metadata": {
    "ExecuteTime": {
     "end_time": "2025-06-30T03:08:41.895890Z",
     "start_time": "2025-06-30T03:08:41.892408Z"
    }
   },
   "cell_type": "code",
   "source": [
    "def actualizar_historial(historial, current_conteo, now, last_second):\n",
    "    \"\"\"\n",
    "    Actualiza el historial de detecciones cada segundo.\n",
    "    \"\"\"\n",
    "    if now.second != last_second:\n",
    "        historial.append(sum(current_conteo.values()))\n",
    "        return now.second, 0\n",
    "    return last_second, None"
   ],
   "id": "37293d56a1199341",
   "outputs": [],
   "execution_count": 9
  },
  {
   "metadata": {},
   "cell_type": "markdown",
   "source": "- ### Manejar eventos de detección de personas",
   "id": "36995b658da2b76d"
  },
  {
   "metadata": {
    "ExecuteTime": {
     "end_time": "2025-06-30T03:09:09.082581Z",
     "start_time": "2025-06-30T03:09:09.078075Z"
    }
   },
   "cell_type": "code",
   "source": [
    "def manejar_evento_persona(frame, conf):\n",
    "    \"\"\"\n",
    "    Maneja el evento de detección de una persona, registrando el evento y guardando una captura.\n",
    "    \"\"\"\n",
    "    registrar_evento(\"Persona detectada\", \"person\", conf)\n",
    "    ts = datetime.now().strftime(\"%Y%m%d_%H%M%S\")\n",
    "    cv2.imwrite(f\"{CAPTURE_DIR}/person_{ts}.jpg\", frame)\n",
    "    registrar_evento(\"Captura guardada\", \"person\", conf)"
   ],
   "id": "58172d8a94ed6e83",
   "outputs": [],
   "execution_count": 10
  },
  {
   "metadata": {},
   "cell_type": "markdown",
   "source": "- ### Mostrar el panel de visualización",
   "id": "35fc19783ca73f7f"
  },
  {
   "metadata": {
    "ExecuteTime": {
     "end_time": "2025-06-30T03:10:59.953466Z",
     "start_time": "2025-06-30T03:10:59.948464Z"
    }
   },
   "cell_type": "code",
   "source": [
    "def mostrar_panel(frame, current_conteo, historial, estado):\n",
    "    \"\"\"\n",
    "    Muestra el panel de visualización con el estado del sistema, conteo de objetos y gráfico de detecciones.\n",
    "    \"\"\"\n",
    "    vis_frame = dibujar_panel(frame, current_conteo, historial, estado=estado)\n",
    "    cv2.imshow(\"YOLOv12 - Detector en tiempo real\", vis_frame)"
   ],
   "id": "2bc35d4440443c94",
   "outputs": [],
   "execution_count": 11
  },
  {
   "metadata": {},
   "cell_type": "markdown",
   "source": "## Función principal del sistema de monitoreo",
   "id": "169c64881afa7dd9"
  },
  {
   "metadata": {
    "ExecuteTime": {
     "end_time": "2025-06-30T03:12:26.505142Z",
     "start_time": "2025-06-30T03:12:26.498554Z"
    }
   },
   "cell_type": "code",
   "source": [
    "def main():\n",
    "    \"\"\"\n",
    "    Función principal que inicializa la cámara, procesa las detecciones y muestra el panel de visualización.\n",
    "    \"\"\"\n",
    "    cap = inicializar_camara()\n",
    "    if cap is None:\n",
    "        return\n",
    "\n",
    "    global historial_detecciones\n",
    "    frame_count = 0\n",
    "    last_second = datetime.now().second\n",
    "\n",
    "    while True:\n",
    "        ret, frame = cap.read()\n",
    "        if not ret:\n",
    "            break\n",
    "\n",
    "        # Procesar detecciones\n",
    "        current_conteo, persona_detectada, conf_persona = procesar_detecciones(frame)\n",
    "\n",
    "        # Actualizar conteo total\n",
    "        for k, v in current_conteo.items():\n",
    "            conteo_objetos[k] = conteo_objetos.get(k, 0) + v\n",
    "\n",
    "        # Registrar evento si corresponde\n",
    "        if persona_detectada:\n",
    "            manejar_evento_persona(frame, conf_persona)\n",
    "            estado = \"alerta\"\n",
    "        else:\n",
    "            estado = \"inactivo\"\n",
    "\n",
    "        # Actualizar historial de detecciones\n",
    "        now = datetime.now()\n",
    "        nuevo_last_second, reset_frame_count = actualizar_historial(historial_detecciones, current_conteo, now, last_second)\n",
    "        if reset_frame_count is not None:\n",
    "            frame_count = 0\n",
    "            last_second = nuevo_last_second\n",
    "        frame_count += 1\n",
    "\n",
    "        # Mostrar panel de visualización\n",
    "        mostrar_panel(frame, current_conteo, historial_detecciones, estado)\n",
    "\n",
    "        # Salir si se presiona 'q'\n",
    "        if cv2.waitKey(1) & 0xFF == ord('q'):\n",
    "            break\n",
    "\n",
    "    # Liberar recursos\n",
    "    cap.release()\n",
    "    cv2.destroyAllWindows()\n",
    "\n"
   ],
   "id": "aadf911bfee37800",
   "outputs": [],
   "execution_count": 12
  },
  {
   "metadata": {},
   "cell_type": "markdown",
   "source": "## Ejecutar la función principal",
   "id": "9250c63fccb18332"
  },
  {
   "metadata": {},
   "cell_type": "code",
   "source": [
    "if __name__ == \"__main__\":\n",
    "    main()"
   ],
   "id": "1368d9ac0d399f0f",
   "outputs": [],
   "execution_count": null
  }
 ],
 "metadata": {
  "kernelspec": {
   "display_name": "Python 3",
   "language": "python",
   "name": "python3"
  },
  "language_info": {
   "codemirror_mode": {
    "name": "ipython",
    "version": 2
   },
   "file_extension": ".py",
   "mimetype": "text/x-python",
   "name": "python",
   "nbconvert_exporter": "python",
   "pygments_lexer": "ipython2",
   "version": "2.7.6"
  }
 },
 "nbformat": 4,
 "nbformat_minor": 5
}

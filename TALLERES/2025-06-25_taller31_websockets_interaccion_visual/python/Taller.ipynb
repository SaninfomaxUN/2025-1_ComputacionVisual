{
 "cells": [
  {
   "metadata": {},
   "cell_type": "markdown",
   "source": [
    "# Taller #31: WebSockets e Interacción Visual en Tiempo Real\n",
    "#### Desarrollado por: David Santiago Cruz Hernández"
   ],
   "id": "d17cb1769d69ff5d"
  },
  {
   "metadata": {},
   "cell_type": "code",
   "source": [
    "import asyncio\n",
    "import websockets\n",
    "import json\n",
    "import random\n",
    "import math\n",
    "from websockets.exceptions import ConnectionClosed\n",
    "\n",
    "# pip install -r requirements.txt"
   ],
   "id": "initial_id",
   "outputs": [],
   "execution_count": null
  },
  {
   "metadata": {},
   "cell_type": "markdown",
   "source": "## 1. Simulación de Coordenadas Aleatorias con WebSocket",
   "id": "50e279a2c3f7efc4"
  },
  {
   "metadata": {},
   "cell_type": "markdown",
   "source": "### Generación de Coordenadas Aleatorias (incluyendo color)",
   "id": "65682d9d0e72bb79"
  },
  {
   "metadata": {},
   "cell_type": "code",
   "source": [
    "def generate_data():\n",
    "    \"\"\"\n",
    "    Genera un conjunto de datos aleatorios con coordenadas x, y y un color.\n",
    "    Returns:\n",
    "        dict: Un diccionario con las coordenadas x, y y un color aleatorio.\n",
    "    \"\"\"\n",
    "\n",
    "    return {\n",
    "        \"x\": random.uniform(-5, 5),    # Coordenada x aleatoria entre -5 y 5\n",
    "        \"y\": random.uniform(-5, 5),    # Coordenada y aleatoria entre -5 y 5\n",
    "        \"color\": f\"#{random.randint(0, 255):02X}{random.randint(0, 255):02X}{random.randint(0, 255):02X}\"  # Color aleatorio en formato hexadecimal\n",
    "    }"
   ],
   "id": "37e2a847f61e9d48",
   "outputs": [],
   "execution_count": null
  },
  {
   "metadata": {},
   "cell_type": "markdown",
   "source": "### Envío de Datos a través de WebSocket",
   "id": "1e4197ae25bfebb7"
  },
  {
   "metadata": {},
   "cell_type": "code",
   "source": [
    "async def send_data(websocket):\n",
    "    \"\"\"\n",
    "    Envía datos aleatorios al cliente conectado a través de WebSocket.\n",
    "    Args:\n",
    "        websocket (websockets.WebSocketServerProtocol): El objeto WebSocket del cliente conectado.\n",
    "    \"\"\"\n",
    "\n",
    "    try:\n",
    "        print(\"Cliente conectado para coordenadas\")\n",
    "        while True:\n",
    "            data = generate_data()\n",
    "            await websocket.send(json.dumps(data))\n",
    "            await asyncio.sleep(0.5)\n",
    "    except ConnectionClosed:\n",
    "        print(\"Cliente desconectado para coordenadas\")"
   ],
   "id": "4f2e7b53687ebc83",
   "outputs": [],
   "execution_count": null
  },
  {
   "metadata": {},
   "cell_type": "markdown",
   "source": "### Servidor WebSocket",
   "id": "731f66c1d6ca177d"
  },
  {
   "metadata": {},
   "cell_type": "code",
   "source": [
    "async def main():\n",
    "    \"\"\"\n",
    "    Inicia el servidor WebSocket en el puerto 8700.\n",
    "    \"\"\"\n",
    "    print(\"Servidor WebSocket corriendo en ws://localhost:8700\")\n",
    "    async with websockets.serve(send_data, \"localhost\", 8700):\n",
    "        await asyncio.Future()"
   ],
   "id": "ef09e63fc5f98173",
   "outputs": [],
   "execution_count": null
  },
  {
   "metadata": {},
   "cell_type": "markdown",
   "source": [
    "<br>\n",
    "\n",
    "---\n",
    "\n",
    "<br>"
   ],
   "id": "6c99f505f69e90d0"
  },
  {
   "metadata": {},
   "cell_type": "markdown",
   "source": "## 2. Simulación de una Señal Cardíaca (ECG) con WebSocket",
   "id": "bf2d13ce1f34209c"
  },
  {
   "metadata": {},
   "cell_type": "markdown",
   "source": "### Simulación de una señal cardíaca básica (onda ECG simple)",
   "id": "2af6af0b09f37ef9"
  },
  {
   "metadata": {},
   "cell_type": "code",
   "source": [
    "def generate_ecg_signal(time):\n",
    "    \"\"\"\n",
    "    Genera una señal ECG simulada basada en el tiempo.\n",
    "    Args:\n",
    "        time (float): El tiempo actual en segundos.\n",
    "    Returns:\n",
    "        float: El valor de la señal ECG en el tiempo dado, con ruido aleatorio.\n",
    "    \"\"\"\n",
    "    # Onda R principal (pico alto)\n",
    "    r_wave = math.sin(2 * math.pi * 1.5 * time) * 2  # Frecuencia cardíaca ~90 bpm\n",
    "    r_spike = 1.5 * math.exp(-abs(5 * (time % 1 - 0.2))) if abs(time % 1 - 0.2) < 0.05 else 0\n",
    "\n",
    "    # Otras ondas pequeñas (S y T)\n",
    "    s_wave = -0.5 * math.sin(4 * math.pi * 1.5 * time + 0.5)\n",
    "    t_wave = 0.6 * math.sin(3 * math.pi * 1.5 * time + 1.2)\n",
    "\n",
    "    # Combinación de ondas\n",
    "    total = r_wave + r_spike + s_wave + t_wave\n",
    "    noise = random.uniform(-0.05, 0.05)\n",
    "\n",
    "    return total + noise"
   ],
   "id": "fbc2967168301ca9",
   "outputs": [],
   "execution_count": null
  },
  {
   "metadata": {},
   "cell_type": "markdown",
   "source": "### Generación de Datos ECG Simulados (incluyendo color)",
   "id": "c6b4125c47423e4"
  },
  {
   "metadata": {},
   "cell_type": "code",
   "source": [
    "def generate_ecg_data(start_time):\n",
    "    \"\"\"\n",
    "    Genera un conjunto de datos simulados de una señal ECG.\n",
    "    Args:\n",
    "        start_time (float): El tiempo de inicio en segundos desde el comienzo de la simulación.\n",
    "    Returns:\n",
    "        dict: Un diccionario con el valor de la señal ECG, el tiempo actual y un color aleatorio.\n",
    "    \"\"\"\n",
    "\n",
    "    current_time = asyncio.get_event_loop().time() - start_time\n",
    "    ecg_value = generate_ecg_signal(current_time)\n",
    "    return {\n",
    "        \"ecg\": ecg_value,\n",
    "        \"timestamp\": current_time,\n",
    "        \"color\": f\"#{random.randint(0, 255):02X}{random.randint(0, 255):02X}{random.randint(0, 255):02X}\"  # Color aleatorio en formato hexadecimal\n",
    "    }"
   ],
   "id": "35f82f04a831e7e9",
   "outputs": [],
   "execution_count": null
  },
  {
   "metadata": {},
   "cell_type": "markdown",
   "source": "### Envío de Datos ECG a través de WebSocket",
   "id": "982416c2f645e87e"
  },
  {
   "metadata": {},
   "cell_type": "code",
   "source": [
    "async def send_ecg_data(websocket):\n",
    "    \"\"\"\n",
    "    Envía datos de una señal ECG simulada al cliente conectado a través de WebSocket.\n",
    "    Args:\n",
    "        websocket (websockets.WebSocketServerProtocol): El objeto WebSocket del cliente conectado.\n",
    "    \"\"\"\n",
    "    start_time = asyncio.get_event_loop().time()\n",
    "    try:\n",
    "        print(\"Cliente conectado para ECG\")\n",
    "        while True:\n",
    "            data = generate_ecg_data(start_time)\n",
    "            await websocket.send(json.dumps(data))\n",
    "            await asyncio.sleep(0.01)  # Enviar datos más frecuentemente para una onda suave\n",
    "    except ConnectionClosed:\n",
    "        print(\"Cliente desconectado de ECG\")"
   ],
   "id": "238dab5e00777485",
   "outputs": [],
   "execution_count": null
  },
  {
   "metadata": {},
   "cell_type": "markdown",
   "source": "### Servidor WebSocket para la señal ECG",
   "id": "4dd15d41a745e27f"
  },
  {
   "metadata": {},
   "cell_type": "code",
   "source": [
    "async def main_ecg():\n",
    "    \"\"\"\n",
    "    Inicia el servidor WebSocket para la señal ECG en el puerto 8800.\n",
    "    \"\"\"\n",
    "    print(\"Servidor WebSocket corriendo en ws://localhost:8800\")\n",
    "    async with websockets.serve(send_ecg_data, \"localhost\", 8800):\n",
    "        await asyncio.Future()"
   ],
   "id": "1cc1f54dba203e5f",
   "outputs": [],
   "execution_count": null
  },
  {
   "metadata": {},
   "cell_type": "markdown",
   "source": [
    "## 3. Ejecución de ambos servidores WebSocket\n",
    "\n",
    "- Ejecuta ambos servidores WebSocket (coordenadas y ECG) de manera concurrente.\n",
    "- Esta función utiliza asyncio.gather para ejecutar ambas tareas en paralelo."
   ],
   "id": "5c3fc153d90c3b9f"
  },
  {
   "metadata": {},
   "cell_type": "code",
   "source": [
    "async def run_both():\n",
    "    await asyncio.gather(\n",
    "        main(),\n",
    "        main_ecg()\n",
    "    )\n",
    "\n",
    "asyncio.run(await run_both())"
   ],
   "id": "d52373eb5aa90c77",
   "outputs": [],
   "execution_count": null
  }
 ],
 "metadata": {
  "kernelspec": {
   "display_name": "Python 3",
   "language": "python",
   "name": "python3"
  },
  "language_info": {
   "codemirror_mode": {
    "name": "ipython",
    "version": 2
   },
   "file_extension": ".py",
   "mimetype": "text/x-python",
   "name": "python",
   "nbconvert_exporter": "python",
   "pygments_lexer": "ipython2",
   "version": "2.7.6"
  }
 },
 "nbformat": 4,
 "nbformat_minor": 5
}

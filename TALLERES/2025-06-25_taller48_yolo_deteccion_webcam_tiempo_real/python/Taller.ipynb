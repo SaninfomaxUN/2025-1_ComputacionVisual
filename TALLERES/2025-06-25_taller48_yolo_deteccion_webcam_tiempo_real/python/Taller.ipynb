{
 "cells": [
  {
   "metadata": {},
   "cell_type": "markdown",
   "source": [
    "# Taller #48: Detección de Objetos en Tiempo Real con YOLO y Webcam\n",
    "#### Desarrollado por: David Santiago Cruz Hernández"
   ],
   "id": "d17cb1769d69ff5d"
  },
  {
   "metadata": {
    "ExecuteTime": {
     "end_time": "2025-06-29T22:11:19.901895Z",
     "start_time": "2025-06-29T22:11:16.233261Z"
    }
   },
   "cell_type": "code",
   "source": [
    "import cv2\n",
    "import time\n",
    "from ultralytics import YOLO\n",
    "\n",
    "# pip install -r requirements.txt"
   ],
   "id": "initial_id",
   "outputs": [],
   "execution_count": 1
  },
  {
   "metadata": {},
   "cell_type": "markdown",
   "source": "## Definir el modelo YOLOv12",
   "id": "50e279a2c3f7efc4"
  },
  {
   "metadata": {
    "ExecuteTime": {
     "end_time": "2025-06-29T22:11:21.230741Z",
     "start_time": "2025-06-29T22:11:20.246855Z"
    }
   },
   "cell_type": "code",
   "source": [
    "# Cargar el modelo YOLOv12 preentrenado\n",
    "model = YOLO('yolo12n.pt')"
   ],
   "id": "d9e904ab21622d19",
   "outputs": [],
   "execution_count": 2
  },
  {
   "metadata": {},
   "cell_type": "markdown",
   "source": "## Definir las clases a detectar",
   "id": "cf62060d0319c327"
  },
  {
   "metadata": {
    "ExecuteTime": {
     "end_time": "2025-06-29T22:11:21.239838Z",
     "start_time": "2025-06-29T22:11:21.232749Z"
    }
   },
   "cell_type": "code",
   "source": [
    "CLASSES_TO_SHOW = ['person', 'cell phone', 'scissors']\n",
    "\n",
    "# Mapea los nombres de clase a sus índices\n",
    "class_names = model.names\n",
    "class_indices = [k for k, v in class_names.items() if v in CLASSES_TO_SHOW]"
   ],
   "id": "4f91d5a5d3f22109",
   "outputs": [],
   "execution_count": 3
  },
  {
   "metadata": {},
   "cell_type": "markdown",
   "source": "## Procesar el video en tiempo real",
   "id": "42d355f2f3096a02"
  },
  {
   "metadata": {},
   "cell_type": "markdown",
   "source": "- ### Dibujar cajas y etiquetas en el frame",
   "id": "15f65a5cb6a540ed"
  },
  {
   "metadata": {
    "ExecuteTime": {
     "end_time": "2025-06-29T22:11:21.275687Z",
     "start_time": "2025-06-29T22:11:21.269559Z"
    }
   },
   "cell_type": "code",
   "source": [
    "def draw_boxes(frame, text, x1, y1, x2, y2):\n",
    "    \"\"\"Dibuja una caja delimitadora y un texto en el frame.\"\"\"\n",
    "    color = (0, 255, 0)  # Color verde\n",
    "    cv2.rectangle(frame, (x1, y1), (x2, y2), color, 2)\n",
    "    cv2.putText(frame, text, (x1, y1 - 10), cv2.FONT_HERSHEY_SIMPLEX, 0.5, color, 2)"
   ],
   "id": "e1202c0557bbd038",
   "outputs": [],
   "execution_count": 4
  },
  {
   "metadata": {},
   "cell_type": "markdown",
   "source": "- ### Procesar cada frame y extraer las detecciones",
   "id": "ca455a74d3f3872b"
  },
  {
   "metadata": {
    "ExecuteTime": {
     "end_time": "2025-06-29T22:11:21.289724Z",
     "start_time": "2025-06-29T22:11:21.277699Z"
    }
   },
   "cell_type": "code",
   "source": [
    "def process_frame(frame, result):\n",
    "    \"\"\"Procesa un frame y dibuja las detecciones.\"\"\"\n",
    "    boxes = result.boxes  # Obtener las cajas detectadas\n",
    "\n",
    "    for box in boxes:\n",
    "        x1, y1, x2, y2 = map(int, box.xyxy[0])          # Obtener coordenadas de la caja delimitadora\n",
    "        conf = box.conf[0]                              # Confianza\n",
    "        cls_id = int(box.cls[0])                        # ID de clase\n",
    "        label = class_names[cls_id]                     # Nombre de la clase\n",
    "\n",
    "        # Filtrar por clases específicas\n",
    "        if class_names[cls_id] not in CLASSES_TO_SHOW:\n",
    "            continue\n",
    "\n",
    "        # Dibujar la caja y el texto en el frame\n",
    "        text = f\"{label} {conf:.2f}\"\n",
    "        draw_boxes(frame, text, x1, y1, x2, y2)"
   ],
   "id": "269695fc85e2acf9",
   "outputs": [],
   "execution_count": 5
  },
  {
   "metadata": {},
   "cell_type": "markdown",
   "source": "## Captura de video en tiempo real",
   "id": "569e9d55747fdcf5"
  },
  {
   "metadata": {},
   "cell_type": "markdown",
   "source": "- ### Calcular FPS",
   "id": "55050d93acdc74b6"
  },
  {
   "metadata": {
    "ExecuteTime": {
     "end_time": "2025-06-29T22:11:21.303465Z",
     "start_time": "2025-06-29T22:11:21.291246Z"
    }
   },
   "cell_type": "code",
   "source": [
    "def calculate_fps(prev_frame_time, new_frame_time):\n",
    "    \"\"\"Calcula los FPS basados en el tiempo entre frames.\"\"\"\n",
    "    fps = 1 / (new_frame_time - prev_frame_time)\n",
    "    prev_frame_time = new_frame_time\n",
    "    return prev_frame_time, fps"
   ],
   "id": "4934eb05c8630d71",
   "outputs": [],
   "execution_count": 6
  },
  {
   "metadata": {},
   "cell_type": "markdown",
   "source": "- ### Capturar video desde la webcam y procesar en tiempo real",
   "id": "94df6a866314b3b4"
  },
  {
   "metadata": {
    "jupyter": {
     "is_executing": true
    },
    "ExecuteTime": {
     "start_time": "2025-06-29T22:11:21.304979Z"
    }
   },
   "cell_type": "code",
   "source": [
    "# Captura de video desde la webcam\n",
    "cap = cv2.VideoCapture(0)\n",
    "\n",
    "# Variables para calcular FPS\n",
    "prev_frame_time = 0\n",
    "new_frame_time = 0\n",
    "\n",
    "print(\"[INFO] Iniciando cámara... Presiona 'q' para salir.\")\n",
    "\n",
    "while True:\n",
    "    # Leer un frame de la cámara\n",
    "    ret, frame = cap.read()\n",
    "    if not ret:\n",
    "        print(\"[ERROR] No se pudo acceder a la cámara.\")\n",
    "        break\n",
    "\n",
    "    # Actualizar el tiempo del nuevo frame\n",
    "    new_frame_time = time.time()\n",
    "\n",
    "    # Realizar inferencia en el frame actual\n",
    "    results = model.predict(source=frame, stream=True)\n",
    "\n",
    "    # Procesar resultados\n",
    "    for result in results:\n",
    "        process_frame(frame, result)\n",
    "\n",
    "    # Calcular y mostrar FPS\n",
    "    prev_frame_time, fps = calculate_fps(prev_frame_time, new_frame_time)\n",
    "    cv2.putText(frame, f\"FPS: {int(fps)}\", (10, 30), cv2.FONT_HERSHEY_SIMPLEX, 1, (0, 0, 255), 2)\n",
    "\n",
    "    # Mostrar el frame con las detecciones\n",
    "    cv2.imshow('YOLOv11 - Deteccion en Tiempo Real', frame)\n",
    "\n",
    "    # Salir si se presiona la tecla 'q'\n",
    "    if cv2.waitKey(1) & 0xFF == ord('q'):\n",
    "        break\n",
    "\n",
    "# Liberar recursos\n",
    "cap.release()\n",
    "cv2.destroyAllWindows()\n",
    "print(\"[INFO] Programa terminado.\")"
   ],
   "id": "2208e20ab42989a5",
   "outputs": [
    {
     "name": "stdout",
     "output_type": "stream",
     "text": [
      "[INFO] Iniciando cámara... Presiona 'q' para salir.\n",
      "\n",
      "0: 480x640 (no detections), 79.9ms\n",
      "Speed: 2.0ms preprocess, 79.9ms inference, 0.7ms postprocess per image at shape (1, 3, 480, 640)\n"
     ]
    }
   ],
   "execution_count": null
  }
 ],
 "metadata": {
  "kernelspec": {
   "display_name": "Python 3",
   "language": "python",
   "name": "python3"
  },
  "language_info": {
   "codemirror_mode": {
    "name": "ipython",
    "version": 2
   },
   "file_extension": ".py",
   "mimetype": "text/x-python",
   "name": "python",
   "nbconvert_exporter": "python",
   "pygments_lexer": "ipython2",
   "version": "2.7.6"
  }
 },
 "nbformat": 4,
 "nbformat_minor": 5
}

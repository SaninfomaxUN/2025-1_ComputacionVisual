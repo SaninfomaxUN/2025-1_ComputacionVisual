{
 "cells": [
  {
   "metadata": {},
   "cell_type": "markdown",
   "source": [
    "# Taller 0: Transformaciones Geométricas\n",
    "#### Preparado por: David Santiago Cruz Hernández\n"
   ],
   "id": "8a77807f92f26ee"
  },
  {
   "metadata": {
    "ExecuteTime": {
     "end_time": "2025-04-15T22:02:10.344138Z",
     "start_time": "2025-04-15T22:02:10.339617Z"
    }
   },
   "cell_type": "code",
   "source": [
    "import numpy as np\n",
    "import matplotlib.pyplot as plt\n",
    "import imageio.v2 as imageio\n",
    "from matplotlib.patches import Polygon\n",
    "from io import BytesIO"
   ],
   "id": "fbc121e30a2defb3",
   "outputs": [],
   "execution_count": 28
  },
  {
   "metadata": {},
   "cell_type": "markdown",
   "source": "### Figura inicial",
   "id": "adb857a7909dd27"
  },
  {
   "metadata": {
    "ExecuteTime": {
     "end_time": "2025-04-15T22:02:10.356363Z",
     "start_time": "2025-04-15T22:02:10.348892Z"
    }
   },
   "cell_type": "code",
   "source": [
    "# Definir los vértices del triángulo\n",
    "triangle = np.array([\n",
    "    [0, 0],  # Vértice 1\n",
    "    [1, 0],  # Vértice 2\n",
    "    [0.5, 1] # Vértice 3\n",
    "])\n",
    "\n",
    "# Función para dibujar el triángulo\n",
    "def draw_triangle(ax, vertices, title=\"\"):\n",
    "    polygon = Polygon(vertices, closed=True, edgecolor='blue', facecolor='lightblue')\n",
    "    ax.add_patch(polygon)\n",
    "    ax.set_xlim(-2, 2)\n",
    "    ax.set_ylim(-2, 2)\n",
    "    ax.set_aspect('equal')\n",
    "    ax.set_title(title)\n",
    "    ax.grid(True)"
   ],
   "id": "d6680f3356958fa6",
   "outputs": [],
   "execution_count": 29
  },
  {
   "metadata": {},
   "cell_type": "markdown",
   "source": "### Matrices de transformación",
   "id": "80f7f8bc70ca195d"
  },
  {
   "metadata": {
    "ExecuteTime": {
     "end_time": "2025-04-15T22:02:10.374214Z",
     "start_time": "2025-04-15T22:02:10.367640Z"
    }
   },
   "cell_type": "code",
   "source": [
    "global translation_matrix\n",
    "global rotation_matrix\n",
    "global scaling_matrix\n",
    "\n",
    "# Función para traslación\n",
    "def translate(vertices, tx, ty):\n",
    "    global translation_matrix\n",
    "    translation_matrix = np.array([\n",
    "        [1, 0, tx],\n",
    "        [0, 1, ty],\n",
    "        [0, 0, 1]\n",
    "    ])\n",
    "    homogeneous_vertices = np.hstack([vertices, np.ones((vertices.shape[0], 1))])  # Agregar columna de 1s\n",
    "    transformed = (translation_matrix @ homogeneous_vertices.T).T\n",
    "    return transformed[:, :2]  # Quitar la columna de 1s\n",
    "\n",
    "# Función para rotación\n",
    "def rotate(vertices, angle_degrees):\n",
    "    angle_radians = np.radians(angle_degrees)\n",
    "    global rotation_matrix\n",
    "    rotation_matrix = np.array([\n",
    "        [np.cos(angle_radians), -np.sin(angle_radians), 0],\n",
    "        [np.sin(angle_radians), np.cos(angle_radians), 0],\n",
    "        [0, 0, 1]\n",
    "    ])\n",
    "    homogeneous_vertices = np.hstack([vertices, np.ones((vertices.shape[0], 1))])\n",
    "    transformed = (rotation_matrix @ homogeneous_vertices.T).T\n",
    "    return transformed[:, :2]\n",
    "\n",
    "# Función para escala\n",
    "def scale(vertices, sx, sy):\n",
    "    global scaling_matrix\n",
    "    scaling_matrix = np.array([\n",
    "        [sx, 0, 0],\n",
    "        [0, sy, 0],\n",
    "        [0, 0, 1]\n",
    "    ])\n",
    "    homogeneous_vertices = np.hstack([vertices, np.ones((vertices.shape[0], 1))])\n",
    "    transformed = (scaling_matrix @ homogeneous_vertices.T).T\n",
    "    return transformed[:, :2]"
   ],
   "id": "f39d33c23fb029d",
   "outputs": [],
   "execution_count": 30
  },
  {
   "metadata": {},
   "cell_type": "markdown",
   "source": "### Animación",
   "id": "273ea520b35e6d0f"
  },
  {
   "metadata": {
    "ExecuteTime": {
     "end_time": "2025-04-15T22:02:15.463466Z",
     "start_time": "2025-04-15T22:02:10.386468Z"
    }
   },
   "cell_type": "code",
   "source": [
    "# Parámetros de la animación\n",
    "frames = 50  # Número de cuadros\n",
    "output_file = \"animation.gif\"  # Nombre del archivo GIF\n",
    "\n",
    "# Lista para almacenar las imágenes\n",
    "images = []\n",
    "\n",
    "for frame in range(frames):\n",
    "    # Crear una figura\n",
    "    fig, ax = plt.subplots(figsize=(6, 6))\n",
    "\n",
    "    # Calcular el tiempo normalizado (t) para interpolar transformaciones\n",
    "    t = frame / frames\n",
    "\n",
    "    # Aplicar transformaciones\n",
    "    translated = translate(triangle, tx=1.5 * t, ty=0.5 * t)  # Traslación lineal\n",
    "    rotated = rotate(translated, angle_degrees=360 * t)       # Rotación completa\n",
    "    scaled = scale(rotated, sx=1 + 0.5 * np.sin(2 * np.pi * t), sy=1 + 0.5 * np.sin(2 * np.pi * t))  # Escala oscilante\n",
    "\n",
    "    # Dibujar el triángulo transformado\n",
    "    draw_triangle(ax, scaled, title=f\"Frame {frame}\")\n",
    "\n",
    "    # Guardar el cuadro en memoria usando BytesIO\n",
    "    buffer = BytesIO()\n",
    "    plt.savefig(buffer, format='png')\n",
    "    buffer.seek(0)  # Regresar al inicio del buffer\n",
    "    images.append(imageio.imread(buffer))  # Leer la imagen desde el buffer\n",
    "    buffer.close()  # Cerrar el buffer\n",
    "\n",
    "    # Cerrar la figura para liberar memoria\n",
    "    plt.close(fig)"
   ],
   "id": "28a5b4bfa58e58",
   "outputs": [],
   "execution_count": 31
  },
  {
   "metadata": {},
   "cell_type": "markdown",
   "source": "### Exportar como GIF",
   "id": "d5806212471d303e"
  },
  {
   "metadata": {
    "ExecuteTime": {
     "end_time": "2025-04-15T22:02:16.290055Z",
     "start_time": "2025-04-15T22:02:15.474588Z"
    }
   },
   "cell_type": "code",
   "source": [
    "# Guardar las imágenes como un GIF\n",
    "imageio.mimsave(output_file, images, duration=0.1)\n",
    "\n",
    "print(f\"Animación guardada como {output_file}\")"
   ],
   "id": "31fda034ea68426c",
   "outputs": [
    {
     "name": "stdout",
     "output_type": "stream",
     "text": [
      "Animación guardada como animation.gif\n"
     ]
    }
   ],
   "execution_count": 32
  },
  {
   "metadata": {},
   "cell_type": "markdown",
   "source": "### Opcional - Mostrar la matriz resultante",
   "id": "74612e462b0fa35e"
  },
  {
   "metadata": {
    "ExecuteTime": {
     "end_time": "2025-04-15T22:26:00.778066Z",
     "start_time": "2025-04-15T22:26:00.772846Z"
    }
   },
   "cell_type": "code",
   "source": [
    "global translation_matrix\n",
    "global rotation_matrix\n",
    "global scaling_matrix\n",
    "\n",
    "print(\"Matriz de traslación Final:\")\n",
    "print(translation_matrix,\"\\n\")\n",
    "\n",
    "print(\"Matriz de rotación Final:\")\n",
    "print(rotation_matrix,\"\\n\")\n",
    "\n",
    "print(\"Matriz de escala Final:\")\n",
    "print(scaling_matrix,\"\\n\")"
   ],
   "id": "73416f1893eb0b6b",
   "outputs": [
    {
     "name": "stdout",
     "output_type": "stream",
     "text": [
      "Matriz de traslación Final:\n",
      "[[1.   0.   1.47]\n",
      " [0.   1.   0.49]\n",
      " [0.   0.   1.  ]] \n",
      "\n",
      "Matriz de rotación Final:\n",
      "[[ 0.9921147   0.12533323  0.        ]\n",
      " [-0.12533323  0.9921147   0.        ]\n",
      " [ 0.          0.          1.        ]] \n",
      "\n",
      "Matriz de escala Final:\n",
      "[[0.93733338 0.         0.        ]\n",
      " [0.         0.93733338 0.        ]\n",
      " [0.         0.         1.        ]] \n",
      "\n"
     ]
    }
   ],
   "execution_count": 37
  }
 ],
 "metadata": {
  "kernelspec": {
   "display_name": "Python 3",
   "language": "python",
   "name": "python3"
  },
  "language_info": {
   "codemirror_mode": {
    "name": "ipython",
    "version": 2
   },
   "file_extension": ".py",
   "mimetype": "text/x-python",
   "name": "python",
   "nbconvert_exporter": "python",
   "pygments_lexer": "ipython2",
   "version": "2.7.6"
  }
 },
 "nbformat": 4,
 "nbformat_minor": 5
}

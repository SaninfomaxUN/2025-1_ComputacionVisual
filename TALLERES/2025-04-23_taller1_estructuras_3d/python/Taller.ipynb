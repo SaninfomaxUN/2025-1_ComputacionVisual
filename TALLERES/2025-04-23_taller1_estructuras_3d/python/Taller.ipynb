{
 "cells": [
  {
   "cell_type": "markdown",
   "id": "d17cb1769d69ff5d",
   "metadata": {},
   "source": [
    "# Taller 1: Construyendo el Mundo 3D: Vértices, Aristas y Caras\n",
    "#### Desarrollado por: David Santiago Cruz Hernández"
   ]
  },
  {
   "cell_type": "code",
   "id": "initial_id",
   "metadata": {
    "ExecuteTime": {
     "end_time": "2025-05-08T02:25:07.650710Z",
     "start_time": "2025-05-08T02:25:07.629721Z"
    }
   },
   "source": [
    "import trimesh\n",
    "import vedo"
   ],
   "outputs": [],
   "execution_count": 55
  },
  {
   "cell_type": "markdown",
   "id": "50e279a2c3f7efc4",
   "metadata": {},
   "source": "#### Cargar el Modelo"
  },
  {
   "cell_type": "code",
   "id": "496074d3d32bdcbb",
   "metadata": {
    "ExecuteTime": {
     "end_time": "2025-05-08T02:25:07.790706Z",
     "start_time": "2025-05-08T02:25:07.748707Z"
    }
   },
   "source": [
    "# Cargar el modelo STL\n",
    "mesh = trimesh.load('../datos/model.stl')"
   ],
   "outputs": [],
   "execution_count": 56
  },
  {
   "metadata": {},
   "cell_type": "markdown",
   "source": "#### Métricas del modelo",
   "id": "4a391112e8603fa7"
  },
  {
   "metadata": {
    "ExecuteTime": {
     "end_time": "2025-05-08T02:25:07.915706Z",
     "start_time": "2025-05-08T02:25:07.891718Z"
    }
   },
   "cell_type": "code",
   "source": [
    "# Calcular las estadísticas\n",
    "vertex_count = len(mesh.vertices)            # Número de vértices\n",
    "face_count = len(mesh.faces)                 # Número de caras\n",
    "edge_count = len(mesh.edges_unique)          # Número de aristas únicas\n",
    "\n",
    "# Imprimir en la consola\n",
    "print(f\"Vértices: {vertex_count}\")\n",
    "print(f\"Caras: {face_count}\")\n",
    "print(f\"Aristas: {edge_count}\")"
   ],
   "id": "8e17df8fe9dcab1b",
   "outputs": [
    {
     "name": "stdout",
     "output_type": "stream",
     "text": [
      "Vértices: 1164\n",
      "Caras: 2220\n",
      "Aristas: 3330\n"
     ]
    }
   ],
   "execution_count": 57
  },
  {
   "cell_type": "markdown",
   "id": "be6ea7a2f84c4c61",
   "metadata": {},
   "source": "#### Extraer las aristas y convertir sus índices a coordenadas 3D:"
  },
  {
   "cell_type": "code",
   "id": "7f2d1e799fc64c0d",
   "metadata": {
    "ExecuteTime": {
     "end_time": "2025-05-08T02:25:08.151723Z",
     "start_time": "2025-05-08T02:25:08.095715Z"
    }
   },
   "source": [
    "# Obtener las aristas como índices de vértices\n",
    "edges_indices = mesh.edges_unique  # Formato: [ [v0, v1], [v2, v3], ... ]\n",
    "\n",
    "# Convertir índices a coordenadas de vértices\n",
    "edge_points = []\n",
    "for idx in edges_indices:\n",
    "    v0 = mesh.vertices[idx[0]]  # Coordenadas del primer vértice\n",
    "    v1 = mesh.vertices[idx[1]]  # Coordenadas del segundo vértice\n",
    "    edge_points.append([v0, v1])  # Almacenar como segmentos de línea"
   ],
   "outputs": [],
   "execution_count": 58
  },
  {
   "cell_type": "markdown",
   "id": "3823690f9a78eb54",
   "metadata": {},
   "source": "#### Visualizar en Vedo"
  },
  {
   "cell_type": "code",
   "id": "8b481d01ca55b072",
   "metadata": {
    "ExecuteTime": {
     "end_time": "2025-05-08T02:25:09.315701Z",
     "start_time": "2025-05-08T02:25:08.315713Z"
    }
   },
   "source": [
    "# Malla (caras)\n",
    "vedo_mesh = vedo.Mesh([mesh.vertices, mesh.faces], c='black', alpha=0.5)\n",
    "\n",
    "# Aristas (usando las coordenadas convertidas)\n",
    "vedo_edges = vedo.Lines(edge_points, c='green5', lw=2)\n",
    "\n",
    "# Vértices\n",
    "vedo_vertices = vedo.Points(mesh.vertices, c='yellow', r=5)\n",
    "\n",
    "# Forzar el uso de un backend interactivo (si es necesario)\n",
    "vedo.settings.default_backend = \"matplotlib\"\n"
   ],
   "outputs": [],
   "execution_count": 59
  },
  {
   "cell_type": "markdown",
   "id": "69789d62e458f74",
   "metadata": {},
   "source": "#### Graficar con Vedo.Plotter"
  },
  {
   "cell_type": "code",
   "id": "4bee126779fd5215",
   "metadata": {
    "jupyter": {
     "is_executing": true
    },
    "ExecuteTime": {
     "start_time": "2025-05-08T02:25:09.396713Z"
    }
   },
   "source": [
    "# Crear Plotter\n",
    "plotter = vedo.Plotter(title=\"Modelo STL\")\n",
    "plotter.add(vedo_mesh)\n",
    "plotter.add(vedo_edges)\n",
    "plotter.add(vedo_vertices)\n",
    "plotter.show()\n"
   ],
   "outputs": [],
   "execution_count": null
  }
 ],
 "metadata": {
  "kernelspec": {
   "display_name": "Python 3 (ipykernel)",
   "language": "python",
   "name": "python3"
  },
  "language_info": {
   "codemirror_mode": {
    "name": "ipython",
    "version": 3
   },
   "file_extension": ".py",
   "mimetype": "text/x-python",
   "name": "python",
   "nbconvert_exporter": "python",
   "pygments_lexer": "ipython3",
   "version": "3.9.5"
  }
 },
 "nbformat": 4,
 "nbformat_minor": 5
}

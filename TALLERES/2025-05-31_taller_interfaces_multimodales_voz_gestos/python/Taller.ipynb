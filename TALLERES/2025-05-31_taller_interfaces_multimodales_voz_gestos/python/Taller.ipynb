{
 "cells": [
  {
   "metadata": {},
   "cell_type": "markdown",
   "source": [
    "# Taller #24: Interfaces Multimodales: Uniendo Voz y Gestos\n",
    "#### Desarrollado por: David Santiago Cruz Hernández"
   ],
   "id": "d17cb1769d69ff5d"
  },
  {
   "metadata": {
    "ExecuteTime": {
     "end_time": "2025-05-31T07:06:25.076891Z",
     "start_time": "2025-05-31T07:06:23.249733Z"
    }
   },
   "cell_type": "code",
   "source": [
    "import speech_recognition as sr\n",
    "import tkinter as tk\n",
    "from pythonosc import udp_client\n",
    "import threading\n",
    "import cv2\n",
    "import mediapipe as mp\n",
    "\n",
    "# pip install -r requirements.txt"
   ],
   "id": "initial_id",
   "outputs": [],
   "execution_count": 1
  },
  {
   "metadata": {},
   "cell_type": "markdown",
   "source": [
    "\n",
    "### Configuración del cliente OSC"
   ],
   "id": "eb8bad11221c48f"
  },
  {
   "metadata": {
    "ExecuteTime": {
     "end_time": "2025-05-31T07:06:25.363939Z",
     "start_time": "2025-05-31T07:06:25.359083Z"
    }
   },
   "cell_type": "code",
   "source": [
    "IP_DESTINO = \"127.0.0.1\"  # IP del servidor (Processing)\n",
    "PUERTO_OSC = 9124         # Puerto OSC\n",
    "cliente_osc = udp_client.SimpleUDPClient(IP_DESTINO, PUERTO_OSC)\n",
    "detener_hilo = threading.Event()"
   ],
   "id": "9f112ad070d0eda7",
   "outputs": [],
   "execution_count": 2
  },
  {
   "metadata": {},
   "cell_type": "markdown",
   "source": "### Lista de comandos permitidos",
   "id": "4ed8a2d73a0dd46e"
  },
  {
   "metadata": {
    "ExecuteTime": {
     "end_time": "2025-05-31T07:06:25.389105Z",
     "start_time": "2025-05-31T07:06:25.384596Z"
    }
   },
   "cell_type": "code",
   "source": [
    "COMANDOS_VOZ = {'iniciar','cambiar color', 'mover', 'transformar', 'detener'}\n",
    "GESTOS_VALIDOS = {'mano_abierta', 'mano_cerrada', 'un_dedo', 'dos_dedos', 'tres_dedos', 'otro'}"
   ],
   "id": "7395e4097092b850",
   "outputs": [],
   "execution_count": 3
  },
  {
   "metadata": {},
   "cell_type": "markdown",
   "source": "### Estados actuales",
   "id": "b12110309d973726"
  },
  {
   "metadata": {
    "ExecuteTime": {
     "end_time": "2025-05-31T07:06:25.408777Z",
     "start_time": "2025-05-31T07:06:25.405249Z"
    }
   },
   "cell_type": "code",
   "source": [
    "estado_voz = None\n",
    "estado_gesto = None"
   ],
   "id": "70b1fc4f929ced38",
   "outputs": [],
   "execution_count": 4
  },
  {
   "metadata": {},
   "cell_type": "markdown",
   "source": "### Interfaz gráfica con Tkinter",
   "id": "234abf10d39defb9"
  },
  {
   "metadata": {
    "ExecuteTime": {
     "end_time": "2025-05-31T07:06:25.428047Z",
     "start_time": "2025-05-31T07:06:25.420947Z"
    }
   },
   "cell_type": "code",
   "source": [
    "class AppVisual(tk.Tk):\n",
    "    def __init__(self):\n",
    "        super().__init__()\n",
    "        self.title(\"Control por Voz y gestos\")\n",
    "        self.geometry(\"500x400\")\n",
    "        self.color_actual = \"white\"\n",
    "        self.pos_x = 200\n",
    "        self.label = tk.Label(self, text=\"Esperando comando...\", bg=self.color_actual, width=30, height=10, font=(\"Arial\", 20))\n",
    "        self.label.place(relx=0.5, rely=0.5, anchor=\"center\")\n",
    "\n",
    "\n",
    "    def actualizar_interfaz(self):\n",
    "        global estado_voz, estado_gesto\n",
    "        if estado_voz == \"iniciar\" and estado_gesto == \"un_dedo\":\n",
    "            self.label.config(text=\"Iniciando...\")\n",
    "            cliente_osc.send_message(\"/accion\", [\"iniciar_animacion\"])\n",
    "            estado_voz = None\n",
    "        elif estado_voz == \"cambiar color\" and estado_gesto == \"mano_abierta\":\n",
    "            self.label.config(bg=self.color_actual)\n",
    "            cliente_osc.send_message(\"/accion\", [\"cambiar_color\"])\n",
    "            estado_voz = None\n",
    "        elif estado_voz == \"mover\" and estado_gesto == \"dos_dedos\":\n",
    "            self.label.config(text=\"Moviendo...\")\n",
    "            cliente_osc.send_message(\"/accion\", [\"mover_objeto\"])\n",
    "            estado_voz = None\n",
    "        elif estado_voz == \"transformar\" and estado_gesto == \"tres_dedos\":\n",
    "            self.label.config(text=\"Transformando...\")\n",
    "            cliente_osc.send_message(\"/accion\", [\"cambiar_forma\"])\n",
    "            estado_voz = None\n",
    "        elif estado_voz == \"detener\" and estado_gesto == \"mano_cerrada\":\n",
    "            self.label.config(text=\"Deteniendo...\")\n",
    "            cliente_osc.send_message(\"/accion\", [\"detener_animacion\"])\n",
    "            estado_voz = None\n",
    "        self.after(100, self.actualizar_interfaz)\n",
    "\n",
    "    def actualizar_estado_voz(self, texto):\n",
    "        self.label.config(text=texto.capitalize())"
   ],
   "id": "3c6600ee951bee5",
   "outputs": [],
   "execution_count": 5
  },
  {
   "metadata": {},
   "cell_type": "markdown",
   "source": "### Función de reconocimiento de voz",
   "id": "6270fe1b370c5630"
  },
  {
   "metadata": {
    "ExecuteTime": {
     "end_time": "2025-05-31T07:06:25.445058Z",
     "start_time": "2025-05-31T07:06:25.439116Z"
    }
   },
   "cell_type": "code",
   "source": [
    "def escuchar_voz(app):\n",
    "    r = sr.Recognizer()\n",
    "    with sr.Microphone() as source:\n",
    "        while True:\n",
    "            try:\n",
    "                audio = r.listen(source, timeout=5, phrase_time_limit=3)\n",
    "                texto = r.recognize_google(audio, language=\"es-CO\").lower()\n",
    "                if texto in COMANDOS_VOZ:\n",
    "                    print(f\"[VOZ] Comando reconocido: {texto}\")\n",
    "                    global estado_voz\n",
    "                    estado_voz = texto\n",
    "                # Programar actualización en el hilo principal de Tkinter\n",
    "                app.after(0, lambda: app.actualizar_estado_voz(texto))\n",
    "            except sr.UnknownValueError:\n",
    "                pass\n",
    "            except Exception as e:\n",
    "                #print(f\"[ERROR VOZ]: {e}\")\n",
    "                pass"
   ],
   "id": "fd70c8ea5aeeeaa2",
   "outputs": [],
   "execution_count": 6
  },
  {
   "metadata": {},
   "cell_type": "markdown",
   "source": "### Función de detección de gestos",
   "id": "fd4a9712cd3e1d42"
  },
  {
   "metadata": {
    "ExecuteTime": {
     "end_time": "2025-05-31T07:06:28.785689Z",
     "start_time": "2025-05-31T07:06:28.780221Z"
    }
   },
   "cell_type": "code",
   "source": [
    "def detectar_gesto_mano(hand_landmarks, mp_hands):\n",
    "    # Obtiene las posiciones de las puntas y nudillos de los dedos\n",
    "    dedos = {\n",
    "        \"PULGAR\": (mp_hands.HandLandmark.THUMB_TIP, mp_hands.HandLandmark.THUMB_IP),\n",
    "        \"INDICE\": (mp_hands.HandLandmark.INDEX_FINGER_TIP, mp_hands.HandLandmark.INDEX_FINGER_PIP),\n",
    "        \"MEDIO\": (mp_hands.HandLandmark.MIDDLE_FINGER_TIP, mp_hands.HandLandmark.MIDDLE_FINGER_PIP),\n",
    "        \"ANULAR\": (mp_hands.HandLandmark.RING_FINGER_TIP, mp_hands.HandLandmark.RING_FINGER_PIP),\n",
    "        \"MENIQUE\": (mp_hands.HandLandmark.PINKY_TIP, mp_hands.HandLandmark.PINKY_PIP),\n",
    "    }\n",
    "    extendidos = {}\n",
    "    for nombre, (tip, pip) in dedos.items():\n",
    "        extendidos[nombre] = hand_landmarks.landmark[tip].y < hand_landmarks.landmark[pip].y\n",
    "\n",
    "    # Lógica para los gestos\n",
    "    if all(extendidos.values()):\n",
    "        return \"mano_abierta\"\n",
    "    elif not any(extendidos.values()):\n",
    "        return \"mano_cerrada\"\n",
    "    elif extendidos[\"INDICE\"] and not extendidos[\"MENIQUE\"] and not extendidos[\"PULGAR\"] and not extendidos[\"ANULAR\"] and not extendidos[\"MEDIO\"]:\n",
    "        return \"un_dedo\"\n",
    "    elif extendidos[\"PULGAR\"] and extendidos[\"MENIQUE\"] and not extendidos[\"INDICE\"] and not extendidos[\"ANULAR\"] and not extendidos[\"MEDIO\"]:\n",
    "        return \"dos_dedos\"\n",
    "    elif extendidos[\"PULGAR\"] and extendidos[\"INDICE\"] and extendidos[\"MENIQUE\"] and not extendidos[\"MEDIO\"] and not extendidos[\"ANULAR\"]:\n",
    "        return \"tres_dedos\"\n",
    "    return \"otro\""
   ],
   "id": "cd4c6636aeeeeeed",
   "outputs": [],
   "execution_count": 8
  },
  {
   "metadata": {
    "ExecuteTime": {
     "end_time": "2025-05-31T07:06:31.042924Z",
     "start_time": "2025-05-31T07:06:31.037896Z"
    }
   },
   "cell_type": "code",
   "source": [
    "def detectar_gestos():\n",
    "    global estado_gesto\n",
    "    mp_hands = mp.solutions.hands\n",
    "    mp_dibujo = mp.solutions.drawing_utils\n",
    "    hands = mp_hands.Hands(max_num_hands=1, min_detection_confidence=0.7)\n",
    "    cap = cv2.VideoCapture(0)\n",
    "\n",
    "    while True:\n",
    "        ret, frame = cap.read()\n",
    "        if not ret:\n",
    "            break\n",
    "\n",
    "        rgb_frame = cv2.cvtColor(frame, cv2.COLOR_BGR2RGB)\n",
    "        result = hands.process(rgb_frame)\n",
    "\n",
    "        if result.multi_hand_landmarks:\n",
    "            for hand_landmarks in result.multi_hand_landmarks:\n",
    "                # Dibuja los puntos y líneas sobre la mano\n",
    "                mp_dibujo.draw_landmarks(\n",
    "                    frame, hand_landmarks, mp_hands.HAND_CONNECTIONS\n",
    "                )\n",
    "                \n",
    "                # Detecta el gesto de la mano\n",
    "                estado_gesto = detectar_gesto_mano(hand_landmarks, mp_hands)\n",
    "        else:\n",
    "            estado_gesto = None\n",
    "\n",
    "        cv2.imshow('Gestos de Mano', frame)\n",
    "        if cv2.waitKey(1) == 27:\n",
    "            break\n",
    "\n",
    "    cap.release()\n",
    "    cv2.destroyAllWindows()"
   ],
   "id": "fc21dd25fc7d7de0",
   "outputs": [],
   "execution_count": 9
  },
  {
   "metadata": {},
   "cell_type": "markdown",
   "source": "### Actualización periódica de la interfaz",
   "id": "6e6ce17bb1399cb3"
  },
  {
   "metadata": {},
   "cell_type": "markdown",
   "source": "### Ejecutar e Iniciar hilos",
   "id": "fd009671a4805d07"
  },
  {
   "metadata": {
    "jupyter": {
     "is_executing": true
    },
    "ExecuteTime": {
     "end_time": "2025-05-31T07:09:21.023110300Z",
     "start_time": "2025-05-31T07:06:40.818886Z"
    }
   },
   "cell_type": "code",
   "source": [
    "app = AppVisual()\n",
    "threading.Thread(target=escuchar_voz, args=(app,), daemon=True).start()\n",
    "threading.Thread(target=detectar_gestos, daemon=True).start()\n",
    "app.after(100, app.actualizar_interfaz)\n",
    "app.mainloop()"
   ],
   "id": "512a3f10e9acab10",
   "outputs": [
    {
     "name": "stdout",
     "output_type": "stream",
     "text": [
      "[VOZ] Comando reconocido: iniciar\n",
      "[VOZ] Comando reconocido: iniciar\n",
      "[VOZ] Comando reconocido: mover\n",
      "[VOZ] Comando reconocido: transformar\n",
      "[VOZ] Comando reconocido: transformar\n",
      "[VOZ] Comando reconocido: cambiar color\n",
      "[VOZ] Comando reconocido: detener\n"
     ]
    }
   ],
   "execution_count": null
  }
 ],
 "metadata": {
  "kernelspec": {
   "display_name": "Python 3",
   "language": "python",
   "name": "python3"
  },
  "language_info": {
   "codemirror_mode": {
    "name": "ipython",
    "version": 2
   },
   "file_extension": ".py",
   "mimetype": "text/x-python",
   "name": "python",
   "nbconvert_exporter": "python",
   "pygments_lexer": "ipython2",
   "version": "2.7.6"
  }
 },
 "nbformat": 4,
 "nbformat_minor": 5
}

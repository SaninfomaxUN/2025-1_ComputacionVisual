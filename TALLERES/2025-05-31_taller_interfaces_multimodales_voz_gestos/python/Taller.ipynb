{
 "cells": [
  {
   "metadata": {},
   "cell_type": "markdown",
   "source": [
    "# Taller #24: Interfaces Multimodales: Uniendo Voz y Gestos\n",
    "#### Desarrollado por: David Santiago Cruz Hernández"
   ],
   "id": "d17cb1769d69ff5d"
  },
  {
   "metadata": {
    "ExecuteTime": {
     "end_time": "2025-05-30T18:33:20.341431Z",
     "start_time": "2025-05-30T18:33:16.181538Z"
    }
   },
   "cell_type": "code",
   "source": [
    "import speech_recognition as sr\n",
    "import tkinter as tk\n",
    "from pythonosc import udp_client\n",
    "import threading\n",
    "import cv2\n",
    "import mediapipe as mp\n",
    "\n",
    "# pip install -r requirements.txt"
   ],
   "id": "initial_id",
   "outputs": [],
   "execution_count": 1
  },
  {
   "metadata": {},
   "cell_type": "markdown",
   "source": [
    "\n",
    "### Configuración del cliente OSC"
   ],
   "id": "eb8bad11221c48f"
  },
  {
   "metadata": {
    "ExecuteTime": {
     "end_time": "2025-05-30T18:33:21.157913Z",
     "start_time": "2025-05-30T18:33:21.145561Z"
    }
   },
   "cell_type": "code",
   "source": [
    "IP_DESTINO = \"127.0.0.1\"  # IP del servidor (Processing)\n",
    "PUERTO_OSC = 9124         # Puerto OSC\n",
    "cliente_osc = udp_client.SimpleUDPClient(IP_DESTINO, PUERTO_OSC)\n",
    "detener_hilo = threading.Event()"
   ],
   "id": "9f112ad070d0eda7",
   "outputs": [],
   "execution_count": 2
  },
  {
   "metadata": {},
   "cell_type": "markdown",
   "source": "### Lista de comandos permitidos",
   "id": "4ed8a2d73a0dd46e"
  },
  {
   "metadata": {
    "ExecuteTime": {
     "end_time": "2025-05-30T18:33:21.245509Z",
     "start_time": "2025-05-30T18:33:21.233278Z"
    }
   },
   "cell_type": "code",
   "source": [
    "COMANDOS_VOZ = {'cambiar', 'mover', 'mostrar'}\n",
    "GESTOS_VALIDOS = {'mano_abierta', 'dos_dedos'}"
   ],
   "id": "7395e4097092b850",
   "outputs": [],
   "execution_count": 3
  },
  {
   "metadata": {},
   "cell_type": "markdown",
   "source": "### Estados actuales",
   "id": "b12110309d973726"
  },
  {
   "metadata": {
    "ExecuteTime": {
     "end_time": "2025-05-30T18:33:21.297472Z",
     "start_time": "2025-05-30T18:33:21.283957Z"
    }
   },
   "cell_type": "code",
   "source": [
    "estado_voz = None\n",
    "estado_gesto = None"
   ],
   "id": "70b1fc4f929ced38",
   "outputs": [],
   "execution_count": 4
  },
  {
   "metadata": {},
   "cell_type": "markdown",
   "source": "### Interfaz gráfica con Tkinter",
   "id": "234abf10d39defb9"
  },
  {
   "metadata": {
    "ExecuteTime": {
     "end_time": "2025-05-30T18:33:21.362653Z",
     "start_time": "2025-05-30T18:33:21.338645Z"
    }
   },
   "cell_type": "code",
   "source": [
    "class AppVisual(tk.Tk):\n",
    "    def __init__(self):\n",
    "        super().__init__()\n",
    "        self.title(\"Control por Voz y gestos\")\n",
    "        self.geometry(\"500x400\")\n",
    "        self.color_actual = \"white\"\n",
    "        self.pos_x = 200\n",
    "        self.label = tk.Label(self, text=\"Esperando comando...\", bg=self.color_actual, width=30, height=10, font=(\"Arial\", 20))\n",
    "        self.label.place(x=self.pos_x, y=100)\n",
    "\n",
    "\n",
    "    def actualizar_interfaz(self):\n",
    "        global estado_voz, estado_gesto\n",
    "        if estado_voz == \"cambiar\" and estado_gesto == \"mano_abierta\":\n",
    "            self.color_actual = \"blue\" if self.color_actual == \"white\" else \"red\"\n",
    "            self.label.config(bg=self.color_actual)\n",
    "            cliente_osc.send_message(\"/accion\", [\"cambiar_color\"])\n",
    "            estado_voz = None\n",
    "        elif estado_voz == \"mover\" and estado_gesto == \"dos_dedos\":\n",
    "            self.pos_x += 20 if self.pos_x < 350 else -200\n",
    "            self.label.place(x=self.pos_x, y=100)\n",
    "            cliente_osc.send_message(\"/accion\", [\"mover_objeto\"])\n",
    "            estado_voz = None\n",
    "        elif estado_voz == \"mostrar\":\n",
    "            self.label.config(text=\"Mostrando...\")\n",
    "            cliente_osc.send_message(\"/accion\", [\"mostrar\"])\n",
    "            estado_voz = None\n",
    "        self.after(100, self.actualizar_interfaz)\n",
    "\n",
    "    def actualizar_estado_voz(self, texto):\n",
    "        self.label.config(text=texto.capitalize())"
   ],
   "id": "3c6600ee951bee5",
   "outputs": [],
   "execution_count": 5
  },
  {
   "metadata": {},
   "cell_type": "markdown",
   "source": "### Función de reconocimiento de voz",
   "id": "6270fe1b370c5630"
  },
  {
   "metadata": {
    "ExecuteTime": {
     "end_time": "2025-05-30T18:33:21.417712Z",
     "start_time": "2025-05-30T18:33:21.399713Z"
    }
   },
   "cell_type": "code",
   "source": [
    "def escuchar_voz(app):\n",
    "    r = sr.Recognizer()\n",
    "    with sr.Microphone() as source:\n",
    "        while True:\n",
    "            try:\n",
    "                audio = r.listen(source, timeout=5, phrase_time_limit=3)\n",
    "                texto = r.recognize_google(audio, language=\"es-CO\").lower()\n",
    "                if texto in COMANDOS_VOZ:\n",
    "                    print(f\"[VOZ] Comando reconocido: {texto}\")\n",
    "                    global estado_voz\n",
    "                    estado_voz = texto\n",
    "                    # Programar actualización en el hilo principal de Tkinter\n",
    "                    app.after(0, lambda: app.actualizar_estado_voz(texto))\n",
    "            except sr.UnknownValueError:\n",
    "                pass\n",
    "            except Exception as e:\n",
    "                print(f\"[ERROR VOZ]: {e}\")"
   ],
   "id": "fd70c8ea5aeeeaa2",
   "outputs": [],
   "execution_count": 6
  },
  {
   "metadata": {},
   "cell_type": "markdown",
   "source": "### Función de detección de gestos",
   "id": "fd4a9712cd3e1d42"
  },
  {
   "metadata": {
    "ExecuteTime": {
     "end_time": "2025-05-30T18:33:21.478539Z",
     "start_time": "2025-05-30T18:33:21.456990Z"
    }
   },
   "cell_type": "code",
   "source": [
    "def detectar_gestos():\n",
    "    global estado_gesto\n",
    "    mp_hands = mp.solutions.hands\n",
    "    hands = mp_hands.Hands(max_num_hands=1, min_detection_confidence=0.7)\n",
    "    cap = cv2.VideoCapture(0)\n",
    "\n",
    "    while True:\n",
    "        ret, frame = cap.read()\n",
    "        if not ret:\n",
    "            break\n",
    "\n",
    "        rgb_frame = cv2.cvtColor(frame, cv2.COLOR_BGR2RGB)\n",
    "        result = hands.process(rgb_frame)\n",
    "\n",
    "        if result.multi_hand_landmarks:\n",
    "            for hand_landmarks in result.multi_hand_landmarks:\n",
    "                thumb_tip = hand_landmarks.landmark[mp_hands.HandLandmark.THUMB_TIP]\n",
    "                index_tip = hand_landmarks.landmark[mp_hands.HandLandmark.INDEX_FINGER_TIP]\n",
    "\n",
    "                if index_tip.y < thumb_tip.y:\n",
    "                    estado_gesto = \"mano_abierta\"\n",
    "                else:\n",
    "                    estado_gesto = \"cerrado\"\n",
    "\n",
    "                middle_tip = hand_landmarks.landmark[mp_hands.HandLandmark.MIDDLE_FINGER_TIP]\n",
    "                if index_tip.y < middle_tip.y:\n",
    "                    estado_gesto = \"dos_dedos\"\n",
    "        else:\n",
    "            estado_gesto = None\n",
    "\n",
    "        cv2.imshow('Gestos de Mano', frame)\n",
    "        if cv2.waitKey(1) == 27:\n",
    "            break\n",
    "\n",
    "    cap.release()\n",
    "    cv2.destroyAllWindows()"
   ],
   "id": "fc21dd25fc7d7de0",
   "outputs": [],
   "execution_count": 7
  },
  {
   "metadata": {},
   "cell_type": "markdown",
   "source": "### Actualización periódica de la interfaz",
   "id": "6e6ce17bb1399cb3"
  },
  {
   "metadata": {},
   "cell_type": "markdown",
   "source": "### Iniciar hilos",
   "id": "fd009671a4805d07"
  },
  {
   "metadata": {
    "jupyter": {
     "is_executing": true
    },
    "ExecuteTime": {
     "start_time": "2025-05-30T18:33:21.516814Z"
    }
   },
   "cell_type": "code",
   "source": [
    "app = AppVisual()\n",
    "threading.Thread(target=escuchar_voz, args=(app,), daemon=True).start()\n",
    "threading.Thread(target=detectar_gestos, daemon=True).start()\n",
    "app.after(100, app.actualizar_interfaz)\n",
    "app.mainloop()"
   ],
   "id": "512a3f10e9acab10",
   "outputs": [
    {
     "name": "stdout",
     "output_type": "stream",
     "text": [
      "[VOZ] Comando reconocido: cambiar\n",
      "[ERROR VOZ]: listening timed out while waiting for phrase to start\n",
      "[ERROR VOZ]: listening timed out while waiting for phrase to start\n"
     ]
    }
   ],
   "execution_count": null
  },
  {
   "metadata": {
    "ExecuteTime": {
     "end_time": "2025-05-30T18:34:30.867368200Z",
     "start_time": "2025-05-30T18:26:16.156425Z"
    }
   },
   "cell_type": "code",
   "source": "",
   "id": "db326bd5b23a82b7",
   "outputs": [],
   "execution_count": null
  }
 ],
 "metadata": {
  "kernelspec": {
   "display_name": "Python 3",
   "language": "python",
   "name": "python3"
  },
  "language_info": {
   "codemirror_mode": {
    "name": "ipython",
    "version": 2
   },
   "file_extension": ".py",
   "mimetype": "text/x-python",
   "name": "python",
   "nbconvert_exporter": "python",
   "pygments_lexer": "ipython2",
   "version": "2.7.6"
  }
 },
 "nbformat": 4,
 "nbformat_minor": 5
}
